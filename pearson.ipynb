{
 "metadata": {
  "language_info": {
   "codemirror_mode": {
    "name": "ipython",
    "version": 3
   },
   "file_extension": ".py",
   "mimetype": "text/x-python",
   "name": "python",
   "nbconvert_exporter": "python",
   "pygments_lexer": "ipython3",
   "version": "3.7.9"
  },
  "orig_nbformat": 2,
  "kernelspec": {
   "name": "python37964bitswallowingconda2c01bb81d9e44eff889a1bd5e4af9b8c",
   "display_name": "Python 3.7.9 64-bit ('swallowing': conda)"
  },
  "metadata": {
   "interpreter": {
    "hash": "e15c4f61e74badcc2c38262a60ea3c426bbf7893fd57ca044447a50d9848d520"
   }
  }
 },
 "nbformat": 4,
 "nbformat_minor": 2,
 "cells": [
  {
   "cell_type": "code",
   "execution_count": 7,
   "metadata": {},
   "outputs": [],
   "source": [
    "import numpy as np\n",
    "import os\n",
    "import glob\n",
    "import pandas as pd\n",
    "\n",
    "def load_text_numpy(path, delimiter, dtype):\n",
    "    if isinstance(delimiter, (tuple, list)):\n",
    "        for d in delimiter:\n",
    "            try:\n",
    "                ground_truth_rect = np.loadtxt(path, delimiter=d, dtype=dtype)\n",
    "                return ground_truth_rect\n",
    "            except:\n",
    "                pass\n",
    "\n",
    "        raise Exception('Could not read file {}'.format(path))\n",
    "    else:\n",
    "        ground_truth_rect = np.loadtxt(path, delimiter=delimiter, dtype=dtype)\n",
    "        return ground_truth_rect\n",
    "\n",
    "def load_text(path, delimiter=' ', dtype=np.float32, backend='numpy'):\n",
    "    if backend == 'numpy':\n",
    "        return load_text_numpy(path, delimiter, dtype)\n",
    "\n",
    "\n",
    "folder = \"Dump Annotations Test\"\n",
    "file_dir = os.path.join(os.path.abspath(os.getcwd()), folder, \"*.zip\")\n",
    "names = glob.glob(file_dir)\n",
    "names_anno = [name.split('/')[-1].split('.')[0] for name in names]\n",
    "names_excel = ['_'.join(name.split('_')[1:-1]) for name in names_anno]\n",
    "names_excel.sort()\n",
    "names_pred = names_excel\n"
   ]
  },
  {
   "cell_type": "code",
   "execution_count": 14,
   "metadata": {},
   "outputs": [],
   "source": [
    "tracker = 'DIMP50'"
   ]
  },
  {
   "cell_type": "code",
   "execution_count": 15,
   "metadata": {},
   "outputs": [],
   "source": [
    "from scipy import stats\n",
    "items = []\n",
    "x_corrs =[]\n",
    "y_corrs =[]\n",
    "for i in range(len(names_pred)):\n",
    "    item = []\n",
    "    item.append(names_pred[i])\n",
    "    anno_name = names_pred[i] + '.csv'\n",
    "    anno_path = os.path.join(os.path.abspath(os.getcwd()), 'anno_csv', anno_name)\n",
    "    df_anno = pd.read_csv(anno_path, header = None)\n",
    "    file_name = names_pred[i] + '.txt'\n",
    "    results_path = os.path.join(os.path.abspath(os.getcwd()), tracker, file_name) \n",
    "    pred_bb = load_text(str(results_path), delimiter=('\\t', ','), dtype=np.float64)\n",
    "    pred_center = pred_bb[:, :2] + 0.5 * (pred_bb[:, 2:] - 1.0)\n",
    "    df_pred = pd.DataFrame(pred_center)\n",
    "\n",
    "    x_anno = df_anno[0].to_numpy()\n",
    "    x_pred = df_pred[0].to_numpy()\n",
    "    y_anno = df_anno[1].to_numpy()\n",
    "    y_pred = df_pred[1].to_numpy()\n",
    "    x_corr, _ = stats.pearsonr(x_anno, x_pred)\n",
    "    y_corr, _ = stats.pearsonr(y_anno, y_pred)\n",
    "    item.append(x_corr)\n",
    "    item.append(y_corr)\n",
    "    items.append(item)\n",
    "    x_corrs.append(x_corr)\n",
    "    y_corrs.append(y_corr)"
   ]
  },
  {
   "cell_type": "code",
   "execution_count": 16,
   "metadata": {},
   "outputs": [
    {
     "output_type": "stream",
     "name": "stdout",
     "text": [
      "mean_x std_x\n0.9793893278987372 0.015694508920145102\nmean_y std_y\n0.8898533928321521 0.12257828773777336\n"
     ]
    }
   ],
   "source": [
    "x_corrs = np.array(x_corrs)\n",
    "y_corrs = np.array(y_corrs)\n",
    "x_mean = np.mean(x_corrs)\n",
    "x_std = np.std(x_corrs)\n",
    "y_mean = np.mean(y_corrs)\n",
    "y_std = np.std(y_corrs)\n",
    "print('mean_x', 'std_x')\n",
    "print(x_mean, x_std)\n",
    "print('mean_y', 'std_y')\n",
    "print(y_mean, y_std)"
   ]
  },
  {
   "cell_type": "code",
   "execution_count": null,
   "metadata": {},
   "outputs": [],
   "source": []
  },
  {
   "cell_type": "code",
   "execution_count": 64,
   "metadata": {},
   "outputs": [],
   "source": [
    "df = pd.DataFrame(items, columns =['name', 'x_corr', 'y_corr'])"
   ]
  },
  {
   "cell_type": "code",
   "execution_count": 65,
   "metadata": {},
   "outputs": [],
   "source": [
    "df.to_excel(tracker + '.xlsx')"
   ]
  },
  {
   "source": [],
   "cell_type": "markdown",
   "metadata": {}
  },
  {
   "cell_type": "code",
   "execution_count": null,
   "metadata": {},
   "outputs": [],
   "source": []
  }
 ]
}